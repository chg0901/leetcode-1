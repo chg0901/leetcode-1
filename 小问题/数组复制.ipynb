{
 "cells": [
  {
   "cell_type": "markdown",
   "id": "c006f78f",
   "metadata": {},
   "source": [
    "## 数组复制的时候不能但纯用\"=\",这样会指向同一个内存地址\n",
    "### 浅拷贝：切片[:],  遍历[i for i in a],  .copy()\n",
    "### 深拷贝：import copy.deepcopy(a),  对每一层都使用浅拷贝"
   ]
  },
  {
   "cell_type": "markdown",
   "id": "01121221",
   "metadata": {},
   "source": [
    "### 一维数组直接用“=”复制会指向统一操作地址"
   ]
  },
  {
   "cell_type": "code",
   "execution_count": 1,
   "id": "abaea27a",
   "metadata": {},
   "outputs": [
    {
     "name": "stdout",
     "output_type": "stream",
     "text": [
      "[1, 2, 3] [1, 2, 3]\n"
     ]
    },
    {
     "data": {
      "text/plain": [
       "(1683184518016, 1683184518016)"
      ]
     },
     "execution_count": 1,
     "metadata": {},
     "output_type": "execute_result"
    }
   ],
   "source": [
    "a = [1,2,3]\n",
    "b = a\n",
    "print(a,b)\n",
    "id(a),id(b)"
   ]
  },
  {
   "cell_type": "code",
   "execution_count": 2,
   "id": "2d144fe8",
   "metadata": {},
   "outputs": [
    {
     "data": {
      "text/plain": [
       "([1, '*', '#'], [1, '*', '#'])"
      ]
     },
     "execution_count": 2,
     "metadata": {},
     "output_type": "execute_result"
    }
   ],
   "source": [
    "a[1] = '*'\n",
    "b[2] = '#'\n",
    "a,b"
   ]
  },
  {
   "cell_type": "markdown",
   "id": "80a5cc2c",
   "metadata": {},
   "source": [
    "### 一维数组的正确复制方法"
   ]
  },
  {
   "cell_type": "code",
   "execution_count": 3,
   "id": "e590481e",
   "metadata": {},
   "outputs": [
    {
     "name": "stdout",
     "output_type": "stream",
     "text": [
      "[1, 2, 3, 4, 5] [1, 2, 3, 4, 5] [1, 2, 3, 4, 5] [1, 2, 3, 4, 5]\n",
      "['*', 2, 3, 4, 5] [1, '#', 3, 4, 5] [1, 2, '?', 4, 5] [1, 2, 3, '!', 5]\n"
     ]
    },
    {
     "data": {
      "text/plain": [
       "(1683184469760, 1683184470080, 1683184478272, 1683184478208)"
      ]
     },
     "execution_count": 3,
     "metadata": {},
     "output_type": "execute_result"
    }
   ],
   "source": [
    "## 1,2,3三种复制方法都可以得到互不影响的复制结果\n",
    "a = [1,2,3,4,5]\n",
    "b1 = a[:]\n",
    "b2 = a.copy()\n",
    "b3 = [i for i in a]\n",
    "print(a,b1,b2,b3)\n",
    "a[0] = '*'\n",
    "b1[1] = '#'\n",
    "b2[2] = '?'\n",
    "b3[3] = '!'\n",
    "print(a,b1,b2,b3)\n",
    "id(a),id(b1),id(b2),id(b3)"
   ]
  },
  {
   "cell_type": "markdown",
   "id": "90b31107",
   "metadata": {},
   "source": [
    "### 多维数组的复制：浅拷贝方法只能复制第一层"
   ]
  },
  {
   "cell_type": "code",
   "execution_count": 7,
   "id": "a9806258",
   "metadata": {},
   "outputs": [
    {
     "name": "stdout",
     "output_type": "stream",
     "text": [
      "[1, [2, 3, 4], 5] [1, [2, 3, 4], 5] [1, [2, 3, 4], 5] [1, [2, 3, 4], 5]\n",
      "1683184862976 1683184862656 1683184552256 1683184774144\n"
     ]
    },
    {
     "data": {
      "text/plain": [
       "(140733189728032, 140733189728032, 140733189728032, 140733189728032)"
      ]
     },
     "execution_count": 7,
     "metadata": {},
     "output_type": "execute_result"
    }
   ],
   "source": [
    "a = [1,[2,3,4],5]\n",
    "b1 = a[:]\n",
    "b2 = a.copy()\n",
    "b3 = [i for i in a]\n",
    "print(a,b1,b2,b3)\n",
    "\n",
    "## 只对整个数组地址做了改变，但是数组内部元素的地址没有变化\n",
    "print(id(a),id(b1),id(b2),id(b3))\n",
    "id(a[1]),id(b1[1]),id(b2[1]),id(b3[1])\n",
    "id(a[0]),id(b1[0]),id(b2[0]),id(b3[0])  "
   ]
  },
  {
   "cell_type": "code",
   "execution_count": 5,
   "id": "a570b4f5",
   "metadata": {},
   "outputs": [
    {
     "name": "stdout",
     "output_type": "stream",
     "text": [
      "['*', ['#', '$', 4], 5] [1, ['#', '$', 4], 5] [1, ['#', '$', 4], 5] [1, ['#', '$', 4], '?']\n"
     ]
    }
   ],
   "source": [
    "a[0] = '*'\n",
    "b1[1][0] = '#'\n",
    "b2[1][1] = '$'\n",
    "b3[2] = '?'\n",
    "print(a,b1,b2,b3)"
   ]
  },
  {
   "cell_type": "markdown",
   "id": "8eff4d3e",
   "metadata": {},
   "source": [
    "### 多维数组的正确复制方法"
   ]
  },
  {
   "cell_type": "code",
   "execution_count": 6,
   "id": "6d0a9092",
   "metadata": {},
   "outputs": [
    {
     "name": "stdout",
     "output_type": "stream",
     "text": [
      "1683184552256 1683184847360 1683184509952\n",
      "[[1, 2, 3], [4, 5, 6]] [[1, 2, 3], [4, 5, 6]] [[1, 2, 3], [4, 5, 6]]\n",
      "['*', [4, 5, 6]] [[1, 2, 3], ['#', 5, 6]] [[1, 2, 3], [4, '$', 6]]\n"
     ]
    }
   ],
   "source": [
    "import copy\n",
    "a = [[1,2,3],[4,5,6]]\n",
    "b1 = copy.deepcopy(a)\n",
    "b2 = [a[i][:] for i in range(len(a))]\n",
    "print(id(a[1]),id(b1[1]),id(b2[1]))\n",
    "print(a,b1,b2)\n",
    "a[0] = '*'\n",
    "b1[1][0] = '#'\n",
    "b2[1][1] = '$'\n",
    "print(a,b1,b2)"
   ]
  },
  {
   "cell_type": "code",
   "execution_count": null,
   "id": "3ab57cab",
   "metadata": {},
   "outputs": [],
   "source": []
  }
 ],
 "metadata": {
  "kernelspec": {
   "display_name": "Python 3",
   "language": "python",
   "name": "python3"
  },
  "language_info": {
   "codemirror_mode": {
    "name": "ipython",
    "version": 3
   },
   "file_extension": ".py",
   "mimetype": "text/x-python",
   "name": "python",
   "nbconvert_exporter": "python",
   "pygments_lexer": "ipython3",
   "version": "3.8.5"
  }
 },
 "nbformat": 4,
 "nbformat_minor": 5
}
