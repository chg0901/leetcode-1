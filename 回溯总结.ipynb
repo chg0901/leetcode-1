{
 "cells": [
  {
   "cell_type": "markdown",
   "metadata": {},
   "source": [
    "## 基本框架\n",
    "1. 确定回溯参数\n",
    "2. 确定终止条件\n",
    "3. 确定每一层循环\n",
    "4. 剪枝\n",
    "5. 去重"
   ]
  },
  {
   "cell_type": "markdown",
   "metadata": {},
   "source": [
    "## 1.组合问题：组合问题一般无序"
   ]
  },
  {
   "cell_type": "markdown",
   "metadata": {},
   "source": [
    "### LC.77 给定两个整数 n 和 k，返回 1 ... n 中所有可能的 k 个数的组合"
   ]
  },
  {
   "cell_type": "code",
   "execution_count": 10,
   "metadata": {},
   "outputs": [
    {
     "data": {
      "text/plain": [
       "[[1, 2], [1, 3], [1, 4], [2, 3], [2, 4], [3, 4]]"
      ]
     },
     "execution_count": 10,
     "metadata": {},
     "output_type": "execute_result"
    }
   ],
   "source": [
    "def lc77(n,k):\n",
    "    path,result = [],[]\n",
    "    def backt(n,k,index):\n",
    "        ## 终止条件：path中的数等于k个就放在result中\n",
    "        if len(path) == k:\n",
    "            result.append(path[:])\n",
    "            return\n",
    "        if len(path) > k:\n",
    "            result\n",
    "        \n",
    "        ## 单层循环\n",
    "        for i in range(index,n+1):\n",
    "            path.append(i)\n",
    "            backt(n,k,i+1) # 单个树枝上不允许同一个数出现两次，所以要i+1\n",
    "            path.pop()\n",
    "    backt(n,k,1)\n",
    "    return result\n",
    "lc77(4,2)"
   ]
  },
  {
   "cell_type": "markdown",
   "metadata": {},
   "source": [
    "### LC.216 找出所有相加之和为 n 的 k 个数的组合。组合中只允许含有 1 - 9 的正整数，并且每种组合中不存在重复的数字"
   ]
  },
  {
   "cell_type": "code",
   "execution_count": 11,
   "metadata": {},
   "outputs": [
    {
     "data": {
      "text/plain": [
       "[[1, 2, 4]]"
      ]
     },
     "execution_count": 11,
     "metadata": {},
     "output_type": "execute_result"
    }
   ],
   "source": [
    "def lc216(n,k):\n",
    "    path,result = [],[]\n",
    "    def backt(n,k,index):\n",
    "        ## 终止条件变成了两个\n",
    "        if len(path) == k and sum(path) == n:\n",
    "            result.append(path[:])\n",
    "            return\n",
    "        if len(path) > k or sum(path) > n:\n",
    "            return\n",
    "        \n",
    "        for i in range(index,10):\n",
    "            path.append(i)\n",
    "            backt(n,k,i+1)\n",
    "            path.pop()\n",
    "            \n",
    "    backt(n,k,1)\n",
    "    return result\n",
    "lc216(7,3)"
   ]
  },
  {
   "cell_type": "markdown",
   "metadata": {},
   "source": [
    "### LC.17 给定一个仅包含数字 2-9 的字符串，返回所有它能表示的字母组合。给出数字到字母的映射如下（与电话按键相同）"
   ]
  },
  {
   "cell_type": "code",
   "execution_count": 14,
   "metadata": {},
   "outputs": [
    {
     "data": {
      "text/plain": [
       "['ad', 'ae', 'af', 'bd', 'be', 'bf', 'cd', 'ce', 'cf']"
      ]
     },
     "execution_count": 14,
     "metadata": {},
     "output_type": "execute_result"
    }
   ],
   "source": [
    "def lc17(digits):\n",
    "    ## 电话上的每个数字对应的字符\n",
    "    dic = {\n",
    "            '2':'abc',\n",
    "            '3':'def',\n",
    "            '4':'ghi',\n",
    "            '5':'jkl',\n",
    "            '6':'mno',\n",
    "            '7':'pqrs',\n",
    "            '8':'tuv',\n",
    "            '9':'wxyz'\n",
    "        }\n",
    "    path,result = [],[]\n",
    "    def backt(n,index):\n",
    "        if len(path) == n:\n",
    "            result.append(''.join(path))\n",
    "            return\n",
    "        ## 回溯的过程略有不同：往深处回溯是用下一个字符代表的字符组\n",
    "        for i in dic[digits[index]]:\n",
    "            path.append(i)\n",
    "            backt(n,index+1)\n",
    "            path.pop()\n",
    "    backt(len(digits),0)\n",
    "    return result\n",
    "lc17('23')"
   ]
  },
  {
   "cell_type": "markdown",
   "metadata": {},
   "source": [
    "### LC.39 给定一个无重复元素的数组 candidates 和一个目标数 target ，找出 candidates 中所有可以使数字和为 target 的组合。candidates 中的数字可以无限制重复被选取"
   ]
  },
  {
   "cell_type": "code",
   "execution_count": 20,
   "metadata": {},
   "outputs": [
    {
     "data": {
      "text/plain": [
       "([[2, 2, 2, 2], [2, 3, 3], [3, 5]], [[2, 2, 3], [7]])"
      ]
     },
     "execution_count": 20,
     "metadata": {},
     "output_type": "execute_result"
    }
   ],
   "source": [
    "def lc39(candidates,target):\n",
    "    candidates = sorted(candidates)\n",
    "    path,result = [],[]\n",
    "    def backt(su,index):\n",
    "        if su == target:\n",
    "            result.append(path[:])\n",
    "            return\n",
    "        if su > target:\n",
    "            return\n",
    "        for i in range(index,len(candidates)):\n",
    "            path.append(candidates[i])\n",
    "            su += candidates[i]\n",
    "            backt(su,i)  ## 允许元素多次使用\n",
    "            su -= candidates[i]\n",
    "            path.pop()\n",
    "    backt(0,0)\n",
    "    return result\n",
    "lc39([2,3,5],8),lc39([2,3,6,7],7)"
   ]
  },
  {
   "cell_type": "markdown",
   "metadata": {},
   "source": [
    "### LC.40 给定一个数组 candidates 和一个目标数 target ，找出 candidates 中所有可以使数字和为 target 的组合。candidates 中的每个数字在每个组合中只能使用一次(candidates可能包含重复数字）。"
   ]
  },
  {
   "cell_type": "code",
   "execution_count": 25,
   "metadata": {},
   "outputs": [
    {
     "data": {
      "text/plain": [
       "[[1, 1, 6], [1, 2, 5], [1, 7], [2, 6]]"
      ]
     },
     "execution_count": 25,
     "metadata": {},
     "output_type": "execute_result"
    }
   ],
   "source": [
    "def lc40(candidates,target):\n",
    "    candidates = sorted(candidates) ## 排序是为了方便去重\n",
    "    path,result = [],[]\n",
    "    used = [0 for i in range(len(candidates))] ## 树层去重\n",
    "    def backt(su,index):\n",
    "        if su == target:\n",
    "            result.append(path[:])\n",
    "            return\n",
    "        if su > target:\n",
    "            return\n",
    "        \n",
    "        for i in range(index,len(candidates)):\n",
    "            if i > 0 and candidates[i] == candidates[i-1] and used[i-1] == 0: ## 树层去重\n",
    "                continue\n",
    "            path.append(candidates[i])\n",
    "            su += candidates[i]\n",
    "            used[i] = 1\n",
    "            backt(su,i+1) ## 同一个元素不能多次使用\n",
    "            used[i] = 0\n",
    "            su -= candidates[i]\n",
    "            path.pop()\n",
    "    backt(0,0)\n",
    "    return result\n",
    "lc40([10,1,2,7,6,1,5],8)"
   ]
  },
  {
   "cell_type": "markdown",
   "metadata": {},
   "source": [
    "## 2. 分割问题\n",
    "### 将符合条件的分割部分加入path"
   ]
  },
  {
   "cell_type": "markdown",
   "metadata": {},
   "source": [
    "### LC.131 给定一个字符串 s，将 s 分割成一些子串，使每个子串都是回文串。返回 s 所有可能的分割方案。"
   ]
  },
  {
   "cell_type": "code",
   "execution_count": 36,
   "metadata": {},
   "outputs": [
    {
     "data": {
      "text/plain": [
       "[['a', 'a', 'b', 'a'], ['a', 'aba'], ['aa', 'b', 'a']]"
      ]
     },
     "execution_count": 36,
     "metadata": {},
     "output_type": "execute_result"
    }
   ],
   "source": [
    "def lc131(s):\n",
    "    path,result = [],[]\n",
    "    def backt(index):\n",
    "        if index == len(s):\n",
    "            result.append(path[:])\n",
    "            return\n",
    "        if index > len(s):\n",
    "            return \n",
    "        \n",
    "        for i in range(index+1,len(s)+1): ## 注意下标取值问题\n",
    "            tmp = s[index:i]\n",
    "            if tmp == tmp[::-1]: ## 只有回文子串才能加入path\n",
    "                path.append(tmp)\n",
    "                backt(i)\n",
    "                path.pop()\n",
    "    backt(0)\n",
    "    return result\n",
    "lc131(\"aaba\")"
   ]
  },
  {
   "cell_type": "markdown",
   "metadata": {},
   "source": [
    "### LC.93 给定一个只包含数字的字符串，复原它并返回所有可能的 IP 地址格式。有效的 IP 地址 正好由四个整数（每个整数位于 0 到 255 之间组成，且不能含有前导 0），整数之间用 '.' 分隔。"
   ]
  },
  {
   "cell_type": "code",
   "execution_count": 38,
   "metadata": {},
   "outputs": [
    {
     "data": {
      "text/plain": [
       "(['255.255.11.135', '255.255.111.35'],\n",
       " ['1.0.10.23', '1.0.102.3', '10.1.0.23', '10.10.2.3', '101.0.2.3'])"
      ]
     },
     "execution_count": 38,
     "metadata": {},
     "output_type": "execute_result"
    }
   ],
   "source": [
    "## 注意排除前导0的情况\n",
    "def lc93(s):\n",
    "    path,result = [],[]\n",
    "    def backt(index):\n",
    "        if len(path) == 8 and index == len(s): ## 8是加\".\"的原因\n",
    "            result.append(''.join(path[:-1]))\n",
    "            return\n",
    "        if len(path) > 8 or index > len(s):\n",
    "            return\n",
    "        \n",
    "        for i in range(index+1,len(s)+1):\n",
    "            tmp = s[index:i]\n",
    "            if 0<= int(tmp) <= 255 and not(len(tmp)>1 and tmp[0] == '0'): ## 这里排除了前导0\n",
    "                path.append(tmp)\n",
    "                path.append('.')\n",
    "                backt(i)\n",
    "                path.pop()\n",
    "                path.pop()\n",
    "    backt(0)\n",
    "    return result\n",
    "lc93(\"25525511135\"),lc93(\"101023\")"
   ]
  },
  {
   "cell_type": "markdown",
   "metadata": {},
   "source": [
    "## 3. 子集问题\n",
    "### 收集每一个节点"
   ]
  },
  {
   "cell_type": "markdown",
   "metadata": {},
   "source": [
    "### LC.78 给定一组不含重复元素的整数数组 nums，返回该数组所有可能的子集（幂集）。"
   ]
  },
  {
   "cell_type": "code",
   "execution_count": 40,
   "metadata": {},
   "outputs": [
    {
     "data": {
      "text/plain": [
       "[[], [1], [1, 2], [1, 2, 3], [1, 3], [2], [2, 3], [3]]"
      ]
     },
     "execution_count": 40,
     "metadata": {},
     "output_type": "execute_result"
    }
   ],
   "source": [
    "def lc78(nums):\n",
    "    path,result = [],[]\n",
    "    def backt(index):\n",
    "        result.append(path[:]) ## 不止取叶子节点，每一个节点都取\n",
    "        if index == len(nums):\n",
    "            return\n",
    "        \n",
    "        for i in range(index,len(nums)):\n",
    "            path.append(nums[i])\n",
    "            backt(i+1)\n",
    "            path.pop()\n",
    "    backt(0)\n",
    "    return result\n",
    "lc78([1,2,3])"
   ]
  },
  {
   "cell_type": "markdown",
   "metadata": {},
   "source": [
    "### LC.90 给定一个可能包含重复元素的整数数组 nums，返回该数组所有可能的子集（幂集）。"
   ]
  },
  {
   "cell_type": "code",
   "execution_count": 41,
   "metadata": {},
   "outputs": [
    {
     "data": {
      "text/plain": [
       "[[], [1], [1, 2], [1, 2, 2], [2], [2, 2]]"
      ]
     },
     "execution_count": 41,
     "metadata": {},
     "output_type": "execute_result"
    }
   ],
   "source": [
    "def lc90(nums):\n",
    "    nums = sorted(nums)\n",
    "    path,result = [],[]\n",
    "    used = [0 for i in range(len(nums))] ## 树层去重\n",
    "    def backt(index):\n",
    "        result.append(path[:])\n",
    "        if index == len(nums):\n",
    "            return\n",
    "        \n",
    "        for i in range(index,len(nums)):\n",
    "            if i > 0 and nums[i] == nums[i-1] and used[i-1] == 0:\n",
    "                continue\n",
    "            path.append(nums[i])\n",
    "            used[i] = 1\n",
    "            backt(i+1)\n",
    "            used[i] = 0\n",
    "            path.pop()\n",
    "    backt(0)\n",
    "    return result\n",
    "lc90([1,2,2])"
   ]
  },
  {
   "cell_type": "markdown",
   "metadata": {},
   "source": [
    "### LC.491 给定一个整型数组, 你的任务是找到所有该数组的递增子序列，递增子序列的长度至少是2。"
   ]
  },
  {
   "cell_type": "code",
   "execution_count": 47,
   "metadata": {},
   "outputs": [
    {
     "data": {
      "text/plain": [
       "[[4, 6], [4, 6, 7], [4, 6, 7, 7], [4, 7], [4, 7, 7], [6, 7], [6, 7, 7], [7, 7]]"
      ]
     },
     "execution_count": 47,
     "metadata": {},
     "output_type": "execute_result"
    }
   ],
   "source": [
    "## 不能提前排序，不能提前排序，不能提前排序\n",
    "def lc491(nums):\n",
    "    path, result = [],[]\n",
    "    def backt(index):\n",
    "        if len(path) >= 2:\n",
    "            result.append(path[:])\n",
    "        if index == len(nums):\n",
    "            return\n",
    "        \n",
    "        used = []  ## 记录每一层，到下一层会被重启\n",
    "        \n",
    "        for i in range(index,len(nums)):\n",
    "            if len(path)==0 or (nums[i]>=path[-1] and nums[i] not in used):\n",
    "                path.append(nums[i])\n",
    "                used.append(nums[i])\n",
    "                backt(i+1)\n",
    "#                 used.pop()  ## 这里不能在pop了，在pop本层就没有了\n",
    "                path.pop()\n",
    "            else:\n",
    "                continue\n",
    "    backt(0)\n",
    "    return result\n",
    "lc491([4, 6, 7, 7])"
   ]
  },
  {
   "cell_type": "markdown",
   "metadata": {},
   "source": [
    "## 4. 排列问题\n",
    "### 每次循环都从头开始"
   ]
  },
  {
   "cell_type": "markdown",
   "metadata": {},
   "source": [
    "### LC.46 给定一个 没有重复 数字的序列，返回其所有可能的全排列。"
   ]
  },
  {
   "cell_type": "code",
   "execution_count": 50,
   "metadata": {},
   "outputs": [
    {
     "data": {
      "text/plain": [
       "[[1, 2, 3], [1, 3, 2], [2, 1, 3], [2, 3, 1], [3, 1, 2], [3, 2, 1]]"
      ]
     },
     "execution_count": 50,
     "metadata": {},
     "output_type": "execute_result"
    }
   ],
   "source": [
    "def lc46(nums):\n",
    "    path,result = [],[]\n",
    "    used = [0 for i in range(len(nums))]\n",
    "    def backt():\n",
    "        if len(path) == len(nums):\n",
    "            result.append(path[:])\n",
    "        if len(path) > len(nums):\n",
    "            return\n",
    "        \n",
    "        for i in range(len(nums)): ## 排列\n",
    "            if used[i] == 1: ## 记录用过的\n",
    "                continue\n",
    "            path.append(nums[i])\n",
    "            used[i] = 1\n",
    "            backt()\n",
    "            used[i] = 0\n",
    "            path.pop()\n",
    "    backt()\n",
    "    return result\n",
    "lc46([1,2,3])"
   ]
  },
  {
   "cell_type": "markdown",
   "metadata": {},
   "source": [
    "### LC.47 给定一个可包含重复数字的序列 nums ，按任意顺序 返回所有不重复的全排列。"
   ]
  },
  {
   "cell_type": "code",
   "execution_count": 53,
   "metadata": {},
   "outputs": [
    {
     "data": {
      "text/plain": [
       "[[1, 1, 2], [1, 2, 1], [2, 1, 1]]"
      ]
     },
     "execution_count": 53,
     "metadata": {},
     "output_type": "execute_result"
    }
   ],
   "source": [
    "def lc47(nums):\n",
    "    path,result = [],[]\n",
    "    used1 = [0 for i in range(len(nums))]\n",
    "    def backt():\n",
    "        if len(path) == len(nums):\n",
    "            result.append(path[:])\n",
    "        if len(path) > len(nums):\n",
    "            return\n",
    "        \n",
    "        used2 = []\n",
    "        for i in range(len(nums)):\n",
    "            if used1[i] == 1 or nums[i] in used2: ## used1控制不使用重复数字，used2控制树层去重\n",
    "                continue\n",
    "            path.append(nums[i])\n",
    "            used1[i] = 1\n",
    "            used2.append(nums[i])\n",
    "            backt()\n",
    "            used1[i] = 0\n",
    "            path.pop()\n",
    "    backt()\n",
    "    return result\n",
    "lc47([1,1,2])"
   ]
  },
  {
   "cell_type": "markdown",
   "metadata": {},
   "source": [
    "## 5. 应用题"
   ]
  },
  {
   "cell_type": "markdown",
   "metadata": {},
   "source": [
    "### LC.332 给你一份航线列表 tickets ，其中 tickets[i] = [fromi, toi] 表示飞机出发和降落的机场地点。请你对该行程进行重新规划排序。所有这些机票都属于一个从 JFK（肯尼迪国际机场）出发的先生，所以该行程必须从 JFK 开始。如果存在多种有效的行程，请你按字典排序返回最小的行程组合。"
   ]
  },
  {
   "cell_type": "code",
   "execution_count": 83,
   "metadata": {},
   "outputs": [
    {
     "name": "stdout",
     "output_type": "stream",
     "text": [
      "['JFK']\n",
      "['JFK', 'KUL']\n",
      "['JFK', 'NRT']\n",
      "['JFK', 'NRT', 'JFK']\n"
     ]
    },
    {
     "data": {
      "text/plain": [
       "[['JFK', 'NRT', 'JFK', 'KUL']]"
      ]
     },
     "execution_count": 83,
     "metadata": {},
     "output_type": "execute_result"
    }
   ],
   "source": [
    "from collections import defaultdict\n",
    "def lc332(tickets):\n",
    "    dic = defaultdict(list) ## 返回值为空时返回一个[],dict中的每一个单元都是list,所以后面用list\n",
    "    \n",
    "    ## 将机票情况加入并排序\n",
    "    for start,end in tickets:\n",
    "        dic[start].append(end)\n",
    "    for key in dic:\n",
    "        dic[key] = sorted(dic[key])\n",
    "#     print(dic)\n",
    "    \n",
    "    result = ['JFK']\n",
    "    path = []\n",
    "    s = 'JFK'\n",
    "    def backt(s):\n",
    "#         print(result)\n",
    "        if s == [] and len(result) < len(tickets) + 1:\n",
    "            return\n",
    "        if len(result) == len(tickets)+1:\n",
    "            path.append(result[:])\n",
    "            return True\n",
    "        print(result)\n",
    "        for i in range(len(dic[s])):\n",
    "            end = dic[s].pop(i)\n",
    "            result.append(end)\n",
    "            if backt(end):return True   ## 防止有多个解，产生超时   \n",
    "            result.pop()\n",
    "            dic[s].append(end)\n",
    "            dic[s] = sorted(dic[s])\n",
    "            \n",
    "    backt(s)\n",
    "    return path\n",
    "    \n",
    "tickets = [[\"JFK\",\"SFO\"],[\"JFK\",\"ATL\"],[\"SFO\",\"ATL\"],[\"ATL\",\"JFK\"],[\"ATL\",\"SFO\"]]\n",
    "t2 = [[\"JFK\",\"KUL\"],[\"JFK\",\"NRT\"],[\"NRT\",\"JFK\"]]\n",
    "t3 = [[\"AXA\",\"EZE\"],[\"EZE\",\"AUA\"],[\"ADL\",\"JFK\"],[\"ADL\",\"TIA\"],[\"AUA\",\"AXA\"],[\"EZE\",\"TIA\"],[\"EZE\",\"TIA\"],[\"AXA\",\"EZE\"],[\"EZE\",\"ADL\"],[\"ANU\",\"EZE\"],[\"TIA\",\"EZE\"],[\"JFK\",\"ADL\"],[\"AUA\",\"JFK\"],[\"JFK\",\"EZE\"],[\"EZE\",\"ANU\"],[\"ADL\",\"AUA\"],[\"ANU\",\"AXA\"],[\"AXA\",\"ADL\"],[\"AUA\",\"JFK\"],[\"EZE\",\"ADL\"],[\"ANU\",\"TIA\"],[\"AUA\",\"JFK\"],[\"TIA\",\"JFK\"],[\"EZE\",\"AUA\"],[\"AXA\",\"EZE\"],[\"AUA\",\"ANU\"],[\"ADL\",\"AXA\"],[\"EZE\",\"ADL\"],[\"AUA\",\"ANU\"],[\"AXA\",\"EZE\"],[\"TIA\",\"AUA\"],[\"AXA\",\"EZE\"],[\"AUA\",\"SYD\"],[\"ADL\",\"JFK\"],[\"EZE\",\"AUA\"],[\"ADL\",\"ANU\"],[\"AUA\",\"TIA\"],[\"ADL\",\"EZE\"],[\"TIA\",\"JFK\"],[\"AXA\",\"ANU\"],[\"JFK\",\"AXA\"],[\"JFK\",\"ADL\"],[\"ADL\",\"EZE\"],[\"AXA\",\"TIA\"],[\"JFK\",\"AUA\"],[\"ADL\",\"EZE\"],[\"JFK\",\"ADL\"],[\"ADL\",\"AXA\"],[\"TIA\",\"AUA\"],[\"AXA\",\"JFK\"],[\"ADL\",\"AUA\"],[\"TIA\",\"JFK\"],[\"JFK\",\"ADL\"],[\"JFK\",\"ADL\"],[\"ANU\",\"AXA\"],[\"TIA\",\"AXA\"],[\"EZE\",\"JFK\"],[\"EZE\",\"AXA\"],[\"ADL\",\"TIA\"],[\"JFK\",\"AUA\"],[\"TIA\",\"EZE\"],[\"EZE\",\"ADL\"],[\"JFK\",\"ANU\"],[\"TIA\",\"AUA\"],[\"EZE\",\"ADL\"],[\"ADL\",\"JFK\"],[\"ANU\",\"AXA\"],[\"AUA\",\"AXA\"],[\"ANU\",\"EZE\"],[\"ADL\",\"AXA\"],[\"ANU\",\"AXA\"],[\"TIA\",\"ADL\"],[\"JFK\",\"ADL\"],[\"JFK\",\"TIA\"],[\"AUA\",\"ADL\"],[\"AUA\",\"TIA\"],[\"TIA\",\"JFK\"],[\"EZE\",\"JFK\"],[\"AUA\",\"ADL\"],[\"ADL\",\"AUA\"],[\"EZE\",\"ANU\"],[\"ADL\",\"ANU\"],[\"AUA\",\"AXA\"],[\"AXA\",\"TIA\"],[\"AXA\",\"TIA\"],[\"ADL\",\"AXA\"],[\"EZE\",\"AXA\"],[\"AXA\",\"JFK\"],[\"JFK\",\"AUA\"],[\"ANU\",\"ADL\"],[\"AXA\",\"TIA\"],[\"ANU\",\"AUA\"],[\"JFK\",\"EZE\"],[\"AXA\",\"ADL\"],[\"TIA\",\"EZE\"],[\"JFK\",\"AXA\"],[\"AXA\",\"ADL\"],[\"EZE\",\"AUA\"],[\"AXA\",\"ANU\"],[\"ADL\",\"EZE\"],[\"AUA\",\"EZE\"]]\n",
    "lc332(t2)"
   ]
  },
  {
   "cell_type": "markdown",
   "metadata": {},
   "source": [
    "### LC.51 按照国际象棋的规则，皇后可以攻击与之处在同一行或同一列或同一斜线上的棋子。n 皇后问题 研究的是如何将 n 个皇后放置在 n×n 的棋盘上，并且使皇后彼此之间不能相互攻击。给你一个整数 n ，返回所有不同的 n 皇后问题 的解决方案。每一种解法包含一个不同的 n 皇后问题 的棋子放置方案，该方案中 'Q' 和 '.' 分别代表了皇后和空位。"
   ]
  },
  {
   "cell_type": "code",
   "execution_count": 102,
   "metadata": {},
   "outputs": [
    {
     "name": "stdout",
     "output_type": "stream",
     "text": [
      "[['.', '.', '.'], ['.', '.', '.'], ['.', '.', '.']]\n",
      "[['Q', '.', '.'], ['.', '.', '.'], ['.', '.', '.']]\n",
      "[['Q', '.', '.'], ['Q', '.', '.'], ['.', '.', '.']]\n",
      "[['Q', '.', '.'], ['Q', '.', '.'], ['.', '.', '.']]\n",
      "[['Q', '.', '.'], ['.', '.', '.'], ['.', '.', '.']]\n",
      "[['Q', '.', '.'], ['.', 'Q', '.'], ['.', '.', '.']]\n",
      "[['Q', '.', '.'], ['.', 'Q', '.'], ['.', '.', '.']]\n",
      "[['Q', '.', '.'], ['.', '.', '.'], ['.', '.', '.']]\n",
      "[['Q', '.', '.'], ['.', '.', 'Q'], ['.', '.', '.']]\n",
      "[['Q', '.', '.'], ['.', '.', 'Q'], ['.', '.', '.']]\n",
      "[['Q', '.', '.'], ['.', '.', 'Q'], ['.', '.', '.']]\n",
      "[['.', '.', '.'], ['.', '.', '.'], ['.', '.', '.']]\n",
      "[['.', 'Q', '.'], ['.', '.', '.'], ['.', '.', '.']]\n",
      "[['.', 'Q', '.'], ['Q', '.', '.'], ['.', '.', '.']]\n",
      "[['.', 'Q', '.'], ['Q', '.', '.'], ['.', '.', '.']]\n",
      "[['.', 'Q', '.'], ['Q', '.', '.'], ['.', '.', '.']]\n",
      "[['.', 'Q', '.'], ['.', '.', '.'], ['.', '.', '.']]\n",
      "[['.', 'Q', '.'], ['.', 'Q', '.'], ['.', '.', '.']]\n",
      "[['.', 'Q', '.'], ['.', 'Q', '.'], ['.', '.', '.']]\n",
      "[['.', 'Q', '.'], ['.', '.', '.'], ['.', '.', '.']]\n",
      "[['.', 'Q', '.'], ['.', '.', 'Q'], ['.', '.', '.']]\n",
      "[['.', 'Q', '.'], ['.', '.', 'Q'], ['.', '.', '.']]\n",
      "[['.', 'Q', '.'], ['.', '.', 'Q'], ['.', '.', '.']]\n",
      "[['.', '.', '.'], ['.', '.', '.'], ['.', '.', '.']]\n",
      "[['.', '.', 'Q'], ['.', '.', '.'], ['.', '.', '.']]\n",
      "[['.', '.', 'Q'], ['Q', '.', '.'], ['.', '.', '.']]\n",
      "[['.', '.', 'Q'], ['Q', '.', '.'], ['.', '.', '.']]\n",
      "[['.', '.', 'Q'], ['Q', '.', '.'], ['.', '.', '.']]\n",
      "[['.', '.', 'Q'], ['.', '.', '.'], ['.', '.', '.']]\n",
      "[['.', '.', 'Q'], ['.', 'Q', '.'], ['.', '.', '.']]\n",
      "[['.', '.', 'Q'], ['.', 'Q', '.'], ['.', '.', '.']]\n",
      "[['.', '.', 'Q'], ['.', '.', '.'], ['.', '.', '.']]\n",
      "[['.', '.', 'Q'], ['.', '.', 'Q'], ['.', '.', '.']]\n",
      "[['.', '.', 'Q'], ['.', '.', 'Q'], ['.', '.', '.']]\n"
     ]
    },
    {
     "data": {
      "text/plain": [
       "[[['.', '.', '.'], ['.', '.', '.'], ['.', '.', '.']],\n",
       " [['.', '.', '.'], ['.', '.', '.'], ['.', '.', '.']],\n",
       " [['.', '.', '.'], ['.', '.', '.'], ['.', '.', '.']],\n",
       " [['.', '.', '.'], ['.', '.', '.'], ['.', '.', '.']],\n",
       " [['.', '.', '.'], ['.', '.', '.'], ['.', '.', '.']],\n",
       " [['.', '.', '.'], ['.', '.', '.'], ['.', '.', '.']],\n",
       " [['.', '.', '.'], ['.', '.', '.'], ['.', '.', '.']],\n",
       " [['.', '.', '.'], ['.', '.', '.'], ['.', '.', '.']],\n",
       " [['.', '.', '.'], ['.', '.', '.'], ['.', '.', '.']],\n",
       " [['.', '.', '.'], ['.', '.', '.'], ['.', '.', '.']],\n",
       " [['.', '.', '.'], ['.', '.', '.'], ['.', '.', '.']],\n",
       " [['.', '.', '.'], ['.', '.', '.'], ['.', '.', '.']],\n",
       " [['.', '.', '.'], ['.', '.', '.'], ['.', '.', '.']],\n",
       " [['.', '.', '.'], ['.', '.', '.'], ['.', '.', '.']],\n",
       " [['.', '.', '.'], ['.', '.', '.'], ['.', '.', '.']],\n",
       " [['.', '.', '.'], ['.', '.', '.'], ['.', '.', '.']],\n",
       " [['.', '.', '.'], ['.', '.', '.'], ['.', '.', '.']],\n",
       " [['.', '.', '.'], ['.', '.', '.'], ['.', '.', '.']],\n",
       " [['.', '.', '.'], ['.', '.', '.'], ['.', '.', '.']],\n",
       " [['.', '.', '.'], ['.', '.', '.'], ['.', '.', '.']],\n",
       " [['.', '.', '.'], ['.', '.', '.'], ['.', '.', '.']],\n",
       " [['.', '.', '.'], ['.', '.', '.'], ['.', '.', '.']]]"
      ]
     },
     "execution_count": 102,
     "metadata": {},
     "output_type": "execute_result"
    }
   ],
   "source": [
    "def lc51(n):\n",
    "    def valid(row,col,result,n):\n",
    "#         print(row,col,result)\n",
    "        ## 列\n",
    "        num = 0\n",
    "        for i in range(n):\n",
    "            if result[row][i] == 'Q':\n",
    "                num += 1\n",
    "        if num > 1:\n",
    "            return False\n",
    "        \n",
    "        ## 行\n",
    "        num = 0\n",
    "        for i in range(n):\n",
    "            if result[i][col] == 'Q':\n",
    "                num += 1\n",
    "        if num > 1:\n",
    "            return False\n",
    "        \n",
    "        ## 正对角\n",
    "        num = 0\n",
    "        for i in range(-n,n):\n",
    "            if 0<=row+i<n and 0<=col-i<n and result[row+i][col-i] == 'Q':\n",
    "                num += 1\n",
    "        if num > 1:\n",
    "            return False\n",
    "        \n",
    "        ## 逆对角\n",
    "        num = 0\n",
    "        for i in range(-n,n):\n",
    "            if 0<=row+i<n and 0<=col+i<n and result[row+i][col+i] == 'Q':\n",
    "                num += 1\n",
    "        if num > 1:\n",
    "            return False\n",
    "        \n",
    "        return True\n",
    "        \n",
    "    result = [['.' for i in range(n)] for j in range(n)]\n",
    "    results = []\n",
    "    def backt(n,row,result):\n",
    "#         print(result)\n",
    "        if row == n:\n",
    "            results.append(result[:])\n",
    "            return\n",
    "        for i in range(n):\n",
    "            if valid(row,i,result,n):\n",
    "                print(result)\n",
    "                result[row][i] = 'Q'\n",
    "                backt(n,row+1,result)\n",
    "                result[row][i] = '.'\n",
    "    backt(n,0,result)\n",
    "    return results\n",
    "lc51(3)"
   ]
  },
  {
   "cell_type": "code",
   "execution_count": null,
   "metadata": {},
   "outputs": [],
   "source": []
  }
 ],
 "metadata": {
  "kernelspec": {
   "display_name": "Python 3",
   "language": "python",
   "name": "python3"
  },
  "language_info": {
   "codemirror_mode": {
    "name": "ipython",
    "version": 3
   },
   "file_extension": ".py",
   "mimetype": "text/x-python",
   "name": "python",
   "nbconvert_exporter": "python",
   "pygments_lexer": "ipython3",
   "version": "3.8.5"
  }
 },
 "nbformat": 4,
 "nbformat_minor": 4
}
